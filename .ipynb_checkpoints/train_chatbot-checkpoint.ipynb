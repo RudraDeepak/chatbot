{
 "cells": [
  {
   "cell_type": "code",
   "execution_count": 1,
   "metadata": {},
   "outputs": [],
   "source": [
    "import nltk"
   ]
  },
  {
   "cell_type": "code",
   "execution_count": 2,
   "metadata": {},
   "outputs": [
    {
     "name": "stdout",
     "output_type": "stream",
     "text": [
      "[nltk_data] Downloading package punkt to\n",
      "[nltk_data]     C:\\Users\\Promethius\\AppData\\Roaming\\nltk_data...\n",
      "[nltk_data]   Package punkt is already up-to-date!\n"
     ]
    },
    {
     "data": {
      "text/plain": [
       "True"
      ]
     },
     "execution_count": 2,
     "metadata": {},
     "output_type": "execute_result"
    }
   ],
   "source": [
    "nltk.download('punkt')"
   ]
  },
  {
   "cell_type": "code",
   "execution_count": 3,
   "metadata": {},
   "outputs": [
    {
     "name": "stdout",
     "output_type": "stream",
     "text": [
      "[nltk_data] Downloading package wordnet to\n",
      "[nltk_data]     C:\\Users\\Promethius\\AppData\\Roaming\\nltk_data...\n",
      "[nltk_data]   Package wordnet is already up-to-date!\n"
     ]
    },
    {
     "data": {
      "text/plain": [
       "True"
      ]
     },
     "execution_count": 3,
     "metadata": {},
     "output_type": "execute_result"
    }
   ],
   "source": [
    "nltk.download('wordnet')"
   ]
  },
  {
   "cell_type": "code",
   "execution_count": 4,
   "metadata": {},
   "outputs": [],
   "source": [
    "from nltk.stem import WordNetLemmatizer"
   ]
  },
  {
   "cell_type": "code",
   "execution_count": 5,
   "metadata": {},
   "outputs": [],
   "source": [
    "lemmatizer=WordNetLemmatizer()"
   ]
  },
  {
   "cell_type": "code",
   "execution_count": 6,
   "metadata": {},
   "outputs": [],
   "source": [
    "import json"
   ]
  },
  {
   "cell_type": "code",
   "execution_count": 7,
   "metadata": {},
   "outputs": [],
   "source": [
    "import pickle"
   ]
  },
  {
   "cell_type": "code",
   "execution_count": 8,
   "metadata": {},
   "outputs": [],
   "source": [
    "import numpy as np"
   ]
  },
  {
   "cell_type": "code",
   "execution_count": 9,
   "metadata": {},
   "outputs": [
    {
     "name": "stderr",
     "output_type": "stream",
     "text": [
      "D:\\Users\\Promethius\\Anaconda3\\lib\\site-packages\\h5py\\__init__.py:36: FutureWarning: Conversion of the second argument of issubdtype from `float` to `np.floating` is deprecated. In future, it will be treated as `np.float64 == np.dtype(float).type`.\n",
      "  from ._conv import register_converters as _register_converters\n",
      "Using TensorFlow backend.\n"
     ]
    }
   ],
   "source": [
    "from keras.models import Sequential"
   ]
  },
  {
   "cell_type": "code",
   "execution_count": 10,
   "metadata": {},
   "outputs": [],
   "source": [
    "from keras.layers import Dense, Activation, Dropout"
   ]
  },
  {
   "cell_type": "code",
   "execution_count": 11,
   "metadata": {},
   "outputs": [],
   "source": [
    "from keras.optimizers import SGD"
   ]
  },
  {
   "cell_type": "code",
   "execution_count": 12,
   "metadata": {},
   "outputs": [],
   "source": [
    "import random"
   ]
  },
  {
   "cell_type": "code",
   "execution_count": 13,
   "metadata": {},
   "outputs": [],
   "source": [
    "words=[]"
   ]
  },
  {
   "cell_type": "code",
   "execution_count": 14,
   "metadata": {},
   "outputs": [],
   "source": [
    "classes=[]"
   ]
  },
  {
   "cell_type": "code",
   "execution_count": 15,
   "metadata": {},
   "outputs": [],
   "source": [
    "documents=[]"
   ]
  },
  {
   "cell_type": "code",
   "execution_count": 16,
   "metadata": {},
   "outputs": [],
   "source": [
    "ignore_words=['?','!']"
   ]
  },
  {
   "cell_type": "code",
   "execution_count": 17,
   "metadata": {},
   "outputs": [],
   "source": [
    "data_file=open('intents.json').read()"
   ]
  },
  {
   "cell_type": "code",
   "execution_count": 18,
   "metadata": {},
   "outputs": [],
   "source": [
    "intents=json.loads(data_file)"
   ]
  },
  {
   "cell_type": "code",
   "execution_count": 19,
   "metadata": {},
   "outputs": [],
   "source": [
    "for intent in intents['intents']:\n",
    "    for pattern in intent['patterns']:  \n",
    "        w=nltk.word_tokenize(pattern)\n",
    "        words.extend(w)\n",
    "        documents.append((w, intent['tag']))\n",
    "        if intent['tag'] not in classes:\n",
    "            classes.append(intent['tag'])"
   ]
  },
  {
   "cell_type": "code",
   "execution_count": 20,
   "metadata": {},
   "outputs": [],
   "source": [
    "words=[lemmatizer.lemmatize(w.lower()) for w in words if w not in ignore_words]\n",
    "words=sorted(list(set(words)))"
   ]
  },
  {
   "cell_type": "code",
   "execution_count": 21,
   "metadata": {},
   "outputs": [],
   "source": [
    "classes=sorted(list(set(classes)))"
   ]
  },
  {
   "cell_type": "code",
   "execution_count": 22,
   "metadata": {},
   "outputs": [
    {
     "name": "stdout",
     "output_type": "stream",
     "text": [
      "47 documents\n"
     ]
    }
   ],
   "source": [
    "print(len(documents),\"documents\")"
   ]
  },
  {
   "cell_type": "code",
   "execution_count": 23,
   "metadata": {},
   "outputs": [
    {
     "name": "stdout",
     "output_type": "stream",
     "text": [
      "9 classes ['adverse_drug', 'blood_pressure', 'blood_pressure_search', 'goodbye', 'greeting', 'hospital_search', 'options', 'pharmacy_search', 'thanks']\n"
     ]
    }
   ],
   "source": [
    "print(len(classes),\"classes\",classes)"
   ]
  },
  {
   "cell_type": "code",
   "execution_count": 24,
   "metadata": {},
   "outputs": [
    {
     "name": "stdout",
     "output_type": "stream",
     "text": [
      "88 unique lemmatized words [\"'s\", ',', 'a', 'adverse', 'all', 'anyone', 'are', 'awesome', 'be', 'behavior', 'blood', 'by', 'bye', 'can', 'causing', 'chatting', 'check', 'could', 'data', 'day', 'detail', 'do', 'dont', 'drug', 'entry', 'find', 'for', 'give', 'good', 'goodbye', 'have', 'hello', 'help', 'helpful', 'helping', 'hey', 'hi', 'history', 'hola', 'hospital', 'how', 'i', 'id', 'is', 'later', 'list', 'load', 'locate', 'log', 'looking', 'lookup', 'management', 'me', 'module', 'nearby', 'next', 'nice', 'of', 'offered', 'open', 'patient', 'pharmacy', 'pressure', 'provide', 'reaction', 'related', 'result', 'search', 'searching', 'see', 'show', 'suitable', 'support', 'task', 'thank', 'thanks', 'that', 'there', 'till', 'time', 'to', 'transfer', 'up', 'want', 'what', 'which', 'with', 'you']\n"
     ]
    }
   ],
   "source": [
    "print(len(words),\"unique lemmatized words\",words)"
   ]
  },
  {
   "cell_type": "code",
   "execution_count": 25,
   "metadata": {},
   "outputs": [],
   "source": [
    "pickle.dump(words,open('words.pkl','wb'))"
   ]
  },
  {
   "cell_type": "code",
   "execution_count": 26,
   "metadata": {},
   "outputs": [],
   "source": [
    "pickle.dump(classes,open('classes.pkl','wb'))"
   ]
  },
  {
   "cell_type": "code",
   "execution_count": 27,
   "metadata": {},
   "outputs": [],
   "source": [
    "training=[]"
   ]
  },
  {
   "cell_type": "code",
   "execution_count": 28,
   "metadata": {},
   "outputs": [],
   "source": [
    "output_empty=[0]*len(classes)"
   ]
  },
  {
   "cell_type": "code",
   "execution_count": 29,
   "metadata": {},
   "outputs": [],
   "source": [
    "for doc in documents:\n",
    "    bag=[]\n",
    "    pattern_words=doc[0]\n",
    "    pattern_words=[lemmatizer.lemmatize(word.lower()) for word in pattern_words]\n",
    "for w in  words:  \n",
    "    bag.append(1) if w in pattern_words else bag.append(0)\n",
    "    output_row=list(output_empty)\n",
    "    output_row[classes.index(doc[1])]=1\n",
    "    training.append([bag,output_row])\n",
    "    \n",
    "\n",
    "        "
   ]
  },
  {
   "cell_type": "code",
   "execution_count": 30,
   "metadata": {},
   "outputs": [],
   "source": [
    "random.shuffle(training)"
   ]
  },
  {
   "cell_type": "code",
   "execution_count": 31,
   "metadata": {},
   "outputs": [],
   "source": [
    "training=np.array(training)"
   ]
  },
  {
   "cell_type": "code",
   "execution_count": 32,
   "metadata": {},
   "outputs": [
    {
     "name": "stdout",
     "output_type": "stream",
     "text": [
      "Training data created\n"
     ]
    }
   ],
   "source": [
    "train_x=list(training[:,0])\n",
    "train_y=list(training[:,1])\n",
    "print(\"Training data created\")"
   ]
  },
  {
   "cell_type": "code",
   "execution_count": 33,
   "metadata": {},
   "outputs": [],
   "source": [
    " model=Sequential()"
   ]
  },
  {
   "cell_type": "code",
   "execution_count": 34,
   "metadata": {},
   "outputs": [],
   "source": [
    "model.add(Dense(128,input_shape=(len(train_x[0]),),activation='relu'))"
   ]
  },
  {
   "cell_type": "code",
   "execution_count": 35,
   "metadata": {},
   "outputs": [],
   "source": [
    "model.add(Dropout(0.5))"
   ]
  },
  {
   "cell_type": "code",
   "execution_count": 36,
   "metadata": {},
   "outputs": [],
   "source": [
    "model.add(Dense(64,activation='relu'))"
   ]
  },
  {
   "cell_type": "code",
   "execution_count": 37,
   "metadata": {},
   "outputs": [],
   "source": [
    "model.add(Dropout(0.5))"
   ]
  },
  {
   "cell_type": "code",
   "execution_count": 38,
   "metadata": {},
   "outputs": [],
   "source": [
    "model.add(Dense(len(train_y[0]),activation='softmax'))"
   ]
  },
  {
   "cell_type": "code",
   "execution_count": 39,
   "metadata": {},
   "outputs": [],
   "source": [
    "sgd=SGD(lr=0.01,decay=1e-6,momentum=0.9,nesterov=True)"
   ]
  },
  {
   "cell_type": "code",
   "execution_count": 40,
   "metadata": {},
   "outputs": [],
   "source": [
    "model.compile(loss='categorical_crossentropy',optimizer=sgd,metrics=['accuracy'])"
   ]
  },
  {
   "cell_type": "code",
   "execution_count": 41,
   "metadata": {},
   "outputs": [
    {
     "name": "stdout",
     "output_type": "stream",
     "text": [
      "Epoch 1/200\n",
      "88/88 [==============================] - 0s 2ms/step - loss: 0.8987 - acc: 0.8523\n",
      "Epoch 2/200\n",
      "88/88 [==============================] - 0s 238us/step - loss: 0.0096 - acc: 1.0000\n",
      "Epoch 3/200\n",
      "88/88 [==============================] - 0s 295us/step - loss: 5.1624e-04 - acc: 1.0000\n",
      "Epoch 4/200\n",
      "88/88 [==============================] - 0s 261us/step - loss: 6.9145e-04 - acc: 1.0000\n",
      "Epoch 5/200\n",
      "88/88 [==============================] - 0s 216us/step - loss: 0.0011 - acc: 1.0000\n",
      "Epoch 6/200\n",
      "88/88 [==============================] - 0s 283us/step - loss: 6.1352e-04 - acc: 1.0000\n",
      "Epoch 7/200\n",
      "88/88 [==============================] - 0s 227us/step - loss: 4.8444e-04 - acc: 1.0000\n",
      "Epoch 8/200\n",
      "88/88 [==============================] - 0s 283us/step - loss: 0.0018 - acc: 1.0000\n",
      "Epoch 9/200\n",
      "88/88 [==============================] - 0s 204us/step - loss: 2.0215e-04 - acc: 1.0000\n",
      "Epoch 10/200\n",
      "88/88 [==============================] - 0s 238us/step - loss: 0.0022 - acc: 1.0000\n",
      "Epoch 11/200\n",
      "88/88 [==============================] - 0s 215us/step - loss: 3.9755e-04 - acc: 1.0000\n",
      "Epoch 12/200\n",
      "88/88 [==============================] - 0s 181us/step - loss: 1.3016e-04 - acc: 1.0000\n",
      "Epoch 13/200\n",
      "88/88 [==============================] - 0s 238us/step - loss: 5.9982e-04 - acc: 1.0000\n",
      "Epoch 14/200\n",
      "88/88 [==============================] - 0s 215us/step - loss: 6.9734e-04 - acc: 1.0000\n",
      "Epoch 15/200\n",
      "88/88 [==============================] - 0s 249us/step - loss: 1.6639e-04 - acc: 1.0000\n",
      "Epoch 16/200\n",
      "88/88 [==============================] - 0s 215us/step - loss: 7.4914e-04 - acc: 1.0000\n",
      "Epoch 17/200\n",
      "88/88 [==============================] - 0s 261us/step - loss: 5.2907e-04 - acc: 1.0000\n",
      "Epoch 18/200\n",
      "88/88 [==============================] - 0s 204us/step - loss: 4.2116e-04 - acc: 1.0000\n",
      "Epoch 19/200\n",
      "88/88 [==============================] - 0s 261us/step - loss: 2.3454e-04 - acc: 1.0000\n",
      "Epoch 20/200\n",
      "88/88 [==============================] - 0s 272us/step - loss: 4.4909e-04 - acc: 1.0000\n",
      "Epoch 21/200\n",
      "88/88 [==============================] - 0s 193us/step - loss: 0.0012 - acc: 1.0000\n",
      "Epoch 22/200\n",
      "88/88 [==============================] - 0s 227us/step - loss: 1.5331e-04 - acc: 1.0000\n",
      "Epoch 23/200\n",
      "88/88 [==============================] - 0s 238us/step - loss: 1.7037e-04 - acc: 1.0000\n",
      "Epoch 24/200\n",
      "88/88 [==============================] - 0s 249us/step - loss: 3.0945e-04 - acc: 1.0000\n",
      "Epoch 25/200\n",
      "88/88 [==============================] - 0s 204us/step - loss: 2.2880e-04 - acc: 1.0000\n",
      "Epoch 26/200\n",
      "88/88 [==============================] - 0s 204us/step - loss: 1.3339e-04 - acc: 1.0000\n",
      "Epoch 27/200\n",
      "88/88 [==============================] - 0s 272us/step - loss: 3.6541e-04 - acc: 1.0000\n",
      "Epoch 28/200\n",
      "88/88 [==============================] - 0s 272us/step - loss: 4.5562e-04 - acc: 1.0000\n",
      "Epoch 29/200\n",
      "88/88 [==============================] - 0s 261us/step - loss: 2.9808e-04 - acc: 1.0000\n",
      "Epoch 30/200\n",
      "88/88 [==============================] - 0s 272us/step - loss: 1.8612e-04 - acc: 1.0000\n",
      "Epoch 31/200\n",
      "88/88 [==============================] - 0s 249us/step - loss: 9.1955e-05 - acc: 1.0000\n",
      "Epoch 32/200\n",
      "88/88 [==============================] - 0s 272us/step - loss: 3.5046e-04 - acc: 1.0000\n",
      "Epoch 33/200\n",
      "88/88 [==============================] - 0s 317us/step - loss: 2.5460e-04 - acc: 1.0000\n",
      "Epoch 34/200\n",
      "88/88 [==============================] - 0s 227us/step - loss: 2.6055e-04 - acc: 1.0000\n",
      "Epoch 35/200\n",
      "88/88 [==============================] - 0s 249us/step - loss: 9.5093e-04 - acc: 1.0000\n",
      "Epoch 36/200\n",
      "88/88 [==============================] - 0s 306us/step - loss: 5.1375e-04 - acc: 1.0000\n",
      "Epoch 37/200\n",
      "88/88 [==============================] - 0s 283us/step - loss: 5.1174e-04 - acc: 1.0000\n",
      "Epoch 38/200\n",
      "88/88 [==============================] - 0s 215us/step - loss: 3.3532e-04 - acc: 1.0000\n",
      "Epoch 39/200\n",
      "88/88 [==============================] - 0s 227us/step - loss: 3.3607e-04 - acc: 1.0000\n",
      "Epoch 40/200\n",
      "88/88 [==============================] - 0s 215us/step - loss: 2.8842e-04 - acc: 1.0000\n",
      "Epoch 41/200\n",
      "88/88 [==============================] - 0s 249us/step - loss: 1.2979e-04 - acc: 1.0000\n",
      "Epoch 42/200\n",
      "88/88 [==============================] - 0s 261us/step - loss: 2.2903e-04 - acc: 1.0000\n",
      "Epoch 43/200\n",
      "88/88 [==============================] - 0s 227us/step - loss: 2.9007e-04 - acc: 1.0000\n",
      "Epoch 44/200\n",
      "88/88 [==============================] - 0s 215us/step - loss: 2.5036e-04 - acc: 1.0000\n",
      "Epoch 45/200\n",
      "88/88 [==============================] - 0s 238us/step - loss: 1.8298e-04 - acc: 1.0000\n",
      "Epoch 46/200\n",
      "88/88 [==============================] - 0s 238us/step - loss: 8.0928e-04 - acc: 1.0000\n",
      "Epoch 47/200\n",
      "88/88 [==============================] - 0s 193us/step - loss: 1.1084e-04 - acc: 1.0000\n",
      "Epoch 48/200\n",
      "88/88 [==============================] - 0s 204us/step - loss: 7.1214e-05 - acc: 1.0000\n",
      "Epoch 49/200\n",
      "88/88 [==============================] - 0s 204us/step - loss: 2.0814e-04 - acc: 1.0000\n",
      "Epoch 50/200\n",
      "88/88 [==============================] - 0s 170us/step - loss: 1.4707e-04 - acc: 1.0000\n",
      "Epoch 51/200\n",
      "88/88 [==============================] - 0s 193us/step - loss: 4.0096e-04 - acc: 1.0000\n",
      "Epoch 52/200\n",
      "88/88 [==============================] - 0s 193us/step - loss: 6.6046e-05 - acc: 1.0000\n",
      "Epoch 53/200\n",
      "88/88 [==============================] - 0s 170us/step - loss: 2.9584e-04 - acc: 1.0000\n",
      "Epoch 54/200\n",
      "88/88 [==============================] - 0s 193us/step - loss: 0.0024 - acc: 1.0000\n",
      "Epoch 55/200\n",
      "88/88 [==============================] - 0s 204us/step - loss: 5.3526e-04 - acc: 1.0000\n",
      "Epoch 56/200\n",
      "88/88 [==============================] - 0s 193us/step - loss: 2.3536e-04 - acc: 1.0000\n",
      "Epoch 57/200\n",
      "88/88 [==============================] - 0s 193us/step - loss: 4.6390e-05 - acc: 1.0000\n",
      "Epoch 58/200\n",
      "88/88 [==============================] - 0s 181us/step - loss: 4.3667e-04 - acc: 1.0000\n",
      "Epoch 59/200\n",
      "88/88 [==============================] - 0s 272us/step - loss: 1.3412e-04 - acc: 1.0000\n",
      "Epoch 60/200\n",
      "88/88 [==============================] - 0s 204us/step - loss: 1.3558e-04 - acc: 1.0000\n",
      "Epoch 61/200\n",
      "88/88 [==============================] - 0s 204us/step - loss: 5.0891e-04 - acc: 1.0000\n",
      "Epoch 62/200\n",
      "88/88 [==============================] - 0s 193us/step - loss: 2.1701e-04 - acc: 1.0000\n",
      "Epoch 63/200\n",
      "88/88 [==============================] - 0s 204us/step - loss: 1.6802e-04 - acc: 1.0000\n",
      "Epoch 64/200\n",
      "88/88 [==============================] - 0s 215us/step - loss: 4.7553e-04 - acc: 1.0000\n",
      "Epoch 65/200\n",
      "88/88 [==============================] - 0s 238us/step - loss: 1.3870e-04 - acc: 1.0000\n",
      "Epoch 66/200\n",
      "88/88 [==============================] - 0s 204us/step - loss: 3.3355e-04 - acc: 1.0000\n",
      "Epoch 67/200\n",
      "88/88 [==============================] - 0s 215us/step - loss: 7.0415e-05 - acc: 1.0000\n",
      "Epoch 68/200\n",
      "88/88 [==============================] - 0s 261us/step - loss: 6.5665e-05 - acc: 1.0000\n",
      "Epoch 69/200\n",
      "88/88 [==============================] - 0s 227us/step - loss: 6.2822e-05 - acc: 1.0000\n",
      "Epoch 70/200\n",
      "88/88 [==============================] - 0s 249us/step - loss: 5.4088e-05 - acc: 1.0000\n",
      "Epoch 71/200\n",
      "88/88 [==============================] - 0s 204us/step - loss: 8.7401e-05 - acc: 1.0000\n",
      "Epoch 72/200\n",
      "88/88 [==============================] - 0s 204us/step - loss: 0.0016 - acc: 1.0000\n",
      "Epoch 73/200\n",
      "88/88 [==============================] - 0s 261us/step - loss: 1.3061e-04 - acc: 1.0000\n",
      "Epoch 74/200\n",
      "88/88 [==============================] - 0s 238us/step - loss: 3.6419e-04 - acc: 1.0000\n",
      "Epoch 75/200\n",
      "88/88 [==============================] - 0s 238us/step - loss: 1.9208e-04 - acc: 1.0000\n",
      "Epoch 76/200\n",
      "88/88 [==============================] - 0s 193us/step - loss: 1.4229e-04 - acc: 1.0000\n",
      "Epoch 77/200\n",
      "88/88 [==============================] - 0s 227us/step - loss: 1.5554e-04 - acc: 1.0000\n",
      "Epoch 78/200\n",
      "88/88 [==============================] - 0s 227us/step - loss: 1.6127e-04 - acc: 1.0000\n",
      "Epoch 79/200\n",
      "88/88 [==============================] - 0s 306us/step - loss: 1.9969e-04 - acc: 1.0000\n",
      "Epoch 80/200\n",
      "88/88 [==============================] - 0s 215us/step - loss: 9.5435e-05 - acc: 1.0000\n",
      "Epoch 81/200\n",
      "88/88 [==============================] - 0s 227us/step - loss: 1.5261e-04 - acc: 1.0000\n",
      "Epoch 82/200\n"
     ]
    },
    {
     "name": "stdout",
     "output_type": "stream",
     "text": [
      "88/88 [==============================] - 0s 249us/step - loss: 1.9207e-04 - acc: 1.0000\n",
      "Epoch 83/200\n",
      "88/88 [==============================] - 0s 193us/step - loss: 3.7524e-05 - acc: 1.0000\n",
      "Epoch 84/200\n",
      "88/88 [==============================] - 0s 261us/step - loss: 4.5993e-04 - acc: 1.0000\n",
      "Epoch 85/200\n",
      "88/88 [==============================] - 0s 260us/step - loss: 2.9102e-04 - acc: 1.0000\n",
      "Epoch 86/200\n",
      "88/88 [==============================] - 0s 204us/step - loss: 7.6452e-05 - acc: 1.0000\n",
      "Epoch 87/200\n",
      "88/88 [==============================] - 0s 193us/step - loss: 1.5230e-04 - acc: 1.0000\n",
      "Epoch 88/200\n",
      "88/88 [==============================] - 0s 181us/step - loss: 3.3425e-05 - acc: 1.0000\n",
      "Epoch 89/200\n",
      "88/88 [==============================] - 0s 249us/step - loss: 9.7282e-05 - acc: 1.0000\n",
      "Epoch 90/200\n",
      "88/88 [==============================] - 0s 181us/step - loss: 2.7960e-05 - acc: 1.0000\n",
      "Epoch 91/200\n",
      "88/88 [==============================] - 0s 227us/step - loss: 3.5498e-05 - acc: 1.0000\n",
      "Epoch 92/200\n",
      "88/88 [==============================] - 0s 215us/step - loss: 5.5018e-04 - acc: 1.0000\n",
      "Epoch 93/200\n",
      "88/88 [==============================] - 0s 204us/step - loss: 4.2038e-04 - acc: 1.0000\n",
      "Epoch 94/200\n",
      "88/88 [==============================] - 0s 272us/step - loss: 6.4898e-04 - acc: 1.0000\n",
      "Epoch 95/200\n",
      "88/88 [==============================] - 0s 215us/step - loss: 5.2533e-04 - acc: 1.0000\n",
      "Epoch 96/200\n",
      "88/88 [==============================] - 0s 272us/step - loss: 1.0849e-04 - acc: 1.0000\n",
      "Epoch 97/200\n",
      "88/88 [==============================] - 0s 249us/step - loss: 5.0734e-05 - acc: 1.0000\n",
      "Epoch 98/200\n",
      "88/88 [==============================] - 0s 227us/step - loss: 0.0015 - acc: 1.0000\n",
      "Epoch 99/200\n",
      "88/88 [==============================] - 0s 249us/step - loss: 9.7112e-05 - acc: 1.0000\n",
      "Epoch 100/200\n",
      "88/88 [==============================] - 0s 238us/step - loss: 1.0157e-05 - acc: 1.0000\n",
      "Epoch 101/200\n",
      "88/88 [==============================] - 0s 215us/step - loss: 5.6538e-04 - acc: 1.0000\n",
      "Epoch 102/200\n",
      "88/88 [==============================] - 0s 193us/step - loss: 6.5740e-05 - acc: 1.0000\n",
      "Epoch 103/200\n",
      "88/88 [==============================] - 0s 249us/step - loss: 1.5727e-04 - acc: 1.0000\n",
      "Epoch 104/200\n",
      "88/88 [==============================] - 0s 226us/step - loss: 5.0513e-04 - acc: 1.0000\n",
      "Epoch 105/200\n",
      "88/88 [==============================] - 0s 238us/step - loss: 1.1553e-05 - acc: 1.0000\n",
      "Epoch 106/200\n",
      "88/88 [==============================] - 0s 215us/step - loss: 1.0850e-04 - acc: 1.0000\n",
      "Epoch 107/200\n",
      "88/88 [==============================] - 0s 227us/step - loss: 4.3205e-04 - acc: 1.0000\n",
      "Epoch 108/200\n",
      "88/88 [==============================] - 0s 215us/step - loss: 7.0545e-05 - acc: 1.0000\n",
      "Epoch 109/200\n",
      "88/88 [==============================] - 0s 181us/step - loss: 7.0011e-05 - acc: 1.0000\n",
      "Epoch 110/200\n",
      "88/88 [==============================] - 0s 204us/step - loss: 2.1668e-04 - acc: 1.0000\n",
      "Epoch 111/200\n",
      "88/88 [==============================] - 0s 204us/step - loss: 3.3641e-04 - acc: 1.0000\n",
      "Epoch 112/200\n",
      "88/88 [==============================] - 0s 227us/step - loss: 2.7395e-04 - acc: 1.0000\n",
      "Epoch 113/200\n",
      "88/88 [==============================] - 0s 193us/step - loss: 8.4674e-06 - acc: 1.0000\n",
      "Epoch 114/200\n",
      "88/88 [==============================] - 0s 215us/step - loss: 8.3414e-05 - acc: 1.0000\n",
      "Epoch 115/200\n",
      "88/88 [==============================] - 0s 204us/step - loss: 8.8424e-06 - acc: 1.0000\n",
      "Epoch 116/200\n",
      "88/88 [==============================] - 0s 193us/step - loss: 7.9620e-05 - acc: 1.0000\n",
      "Epoch 117/200\n",
      "88/88 [==============================] - 0s 204us/step - loss: 1.1462e-04 - acc: 1.0000\n",
      "Epoch 118/200\n",
      "88/88 [==============================] - 0s 227us/step - loss: 6.4141e-05 - acc: 1.0000\n",
      "Epoch 119/200\n",
      "88/88 [==============================] - 0s 193us/step - loss: 8.0743e-05 - acc: 1.0000\n",
      "Epoch 120/200\n",
      "88/88 [==============================] - 0s 227us/step - loss: 2.7597e-04 - acc: 1.0000\n",
      "Epoch 121/200\n",
      "88/88 [==============================] - 0s 238us/step - loss: 2.3858e-05 - acc: 1.0000\n",
      "Epoch 122/200\n",
      "88/88 [==============================] - 0s 193us/step - loss: 5.8120e-05 - acc: 1.0000\n",
      "Epoch 123/200\n",
      "88/88 [==============================] - 0s 249us/step - loss: 1.2403e-04 - acc: 1.0000\n",
      "Epoch 124/200\n",
      "88/88 [==============================] - 0s 181us/step - loss: 1.3403e-04 - acc: 1.0000\n",
      "Epoch 125/200\n",
      "88/88 [==============================] - 0s 170us/step - loss: 3.3614e-05 - acc: 1.0000\n",
      "Epoch 126/200\n",
      "88/88 [==============================] - 0s 193us/step - loss: 3.4398e-04 - acc: 1.0000\n",
      "Epoch 127/200\n",
      "88/88 [==============================] - 0s 227us/step - loss: 1.7912e-04 - acc: 1.0000\n",
      "Epoch 128/200\n",
      "88/88 [==============================] - 0s 193us/step - loss: 7.9906e-05 - acc: 1.0000\n",
      "Epoch 129/200\n",
      "88/88 [==============================] - 0s 227us/step - loss: 2.8325e-05 - acc: 1.0000\n",
      "Epoch 130/200\n",
      "88/88 [==============================] - 0s 261us/step - loss: 2.1548e-04 - acc: 1.0000\n",
      "Epoch 131/200\n",
      "88/88 [==============================] - 0s 238us/step - loss: 1.6498e-05 - acc: 1.0000\n",
      "Epoch 132/200\n",
      "88/88 [==============================] - 0s 238us/step - loss: 7.8240e-05 - acc: 1.0000\n",
      "Epoch 133/200\n",
      "88/88 [==============================] - 0s 193us/step - loss: 9.8792e-05 - acc: 1.0000\n",
      "Epoch 134/200\n",
      "88/88 [==============================] - 0s 170us/step - loss: 2.5622e-05 - acc: 1.0000\n",
      "Epoch 135/200\n",
      "88/88 [==============================] - 0s 204us/step - loss: 6.3708e-05 - acc: 1.0000\n",
      "Epoch 136/200\n",
      "88/88 [==============================] - 0s 181us/step - loss: 1.9703e-04 - acc: 1.0000\n",
      "Epoch 137/200\n",
      "88/88 [==============================] - 0s 193us/step - loss: 8.4430e-05 - acc: 1.0000\n",
      "Epoch 138/200\n",
      "88/88 [==============================] - 0s 181us/step - loss: 8.0792e-05 - acc: 1.0000\n",
      "Epoch 139/200\n",
      "88/88 [==============================] - 0s 181us/step - loss: 4.2120e-05 - acc: 1.0000\n",
      "Epoch 140/200\n",
      "88/88 [==============================] - 0s 193us/step - loss: 1.6657e-05 - acc: 1.0000\n",
      "Epoch 141/200\n",
      "88/88 [==============================] - 0s 249us/step - loss: 3.7488e-05 - acc: 1.0000\n",
      "Epoch 142/200\n",
      "88/88 [==============================] - 0s 193us/step - loss: 3.3752e-04 - acc: 1.0000\n",
      "Epoch 143/200\n",
      "88/88 [==============================] - 0s 215us/step - loss: 1.3798e-05 - acc: 1.0000\n",
      "Epoch 144/200\n",
      "88/88 [==============================] - 0s 181us/step - loss: 3.3558e-05 - acc: 1.0000\n",
      "Epoch 145/200\n",
      "88/88 [==============================] - 0s 215us/step - loss: 2.4247e-05 - acc: 1.0000\n",
      "Epoch 146/200\n",
      "88/88 [==============================] - 0s 193us/step - loss: 5.9773e-05 - acc: 1.0000\n",
      "Epoch 147/200\n",
      "88/88 [==============================] - 0s 170us/step - loss: 4.7824e-05 - acc: 1.0000\n",
      "Epoch 148/200\n",
      "88/88 [==============================] - 0s 170us/step - loss: 8.6439e-05 - acc: 1.0000\n",
      "Epoch 149/200\n",
      "88/88 [==============================] - 0s 159us/step - loss: 9.3432e-05 - acc: 1.0000\n",
      "Epoch 150/200\n",
      "88/88 [==============================] - 0s 170us/step - loss: 2.9679e-05 - acc: 1.0000\n",
      "Epoch 151/200\n",
      "88/88 [==============================] - 0s 170us/step - loss: 1.5635e-04 - acc: 1.0000\n",
      "Epoch 152/200\n",
      "88/88 [==============================] - 0s 181us/step - loss: 2.9905e-05 - acc: 1.0000\n",
      "Epoch 153/200\n",
      "88/88 [==============================] - 0s 170us/step - loss: 5.1683e-05 - acc: 1.0000\n",
      "Epoch 154/200\n",
      "88/88 [==============================] - 0s 193us/step - loss: 1.8191e-04 - acc: 1.0000\n",
      "Epoch 155/200\n",
      "88/88 [==============================] - 0s 181us/step - loss: 2.5476e-05 - acc: 1.0000\n",
      "Epoch 156/200\n",
      "88/88 [==============================] - 0s 192us/step - loss: 8.8306e-04 - acc: 1.0000\n",
      "Epoch 157/200\n",
      "88/88 [==============================] - 0s 181us/step - loss: 1.8553e-05 - acc: 1.0000\n",
      "Epoch 158/200\n",
      "88/88 [==============================] - 0s 227us/step - loss: 2.0532e-04 - acc: 1.0000\n",
      "Epoch 159/200\n",
      "88/88 [==============================] - 0s 193us/step - loss: 6.1185e-05 - acc: 1.0000\n",
      "Epoch 160/200\n",
      "88/88 [==============================] - 0s 193us/step - loss: 1.7719e-05 - acc: 1.0000\n",
      "Epoch 161/200\n",
      "88/88 [==============================] - 0s 215us/step - loss: 2.9278e-05 - acc: 1.0000\n",
      "Epoch 162/200\n"
     ]
    },
    {
     "name": "stdout",
     "output_type": "stream",
     "text": [
      "88/88 [==============================] - 0s 227us/step - loss: 2.1733e-05 - acc: 1.0000\n",
      "Epoch 163/200\n",
      "88/88 [==============================] - 0s 193us/step - loss: 1.9364e-04 - acc: 1.0000\n",
      "Epoch 164/200\n",
      "88/88 [==============================] - 0s 215us/step - loss: 3.0292e-05 - acc: 1.0000\n",
      "Epoch 165/200\n",
      "88/88 [==============================] - 0s 215us/step - loss: 6.0724e-06 - acc: 1.0000\n",
      "Epoch 166/200\n",
      "88/88 [==============================] - 0s 204us/step - loss: 3.8873e-05 - acc: 1.0000\n",
      "Epoch 167/200\n",
      "88/88 [==============================] - 0s 238us/step - loss: 1.6289e-05 - acc: 1.0000\n",
      "Epoch 168/200\n",
      "88/88 [==============================] - 0s 227us/step - loss: 4.6913e-05 - acc: 1.0000\n",
      "Epoch 169/200\n",
      "88/88 [==============================] - 0s 249us/step - loss: 3.1512e-05 - acc: 1.0000\n",
      "Epoch 170/200\n",
      "88/88 [==============================] - 0s 295us/step - loss: 7.3385e-04 - acc: 1.0000\n",
      "Epoch 171/200\n",
      "88/88 [==============================] - 0s 249us/step - loss: 2.9959e-04 - acc: 1.0000\n",
      "Epoch 172/200\n",
      "88/88 [==============================] - 0s 227us/step - loss: 1.9087e-04 - acc: 1.0000\n",
      "Epoch 173/200\n",
      "88/88 [==============================] - 0s 249us/step - loss: 1.3972e-05 - acc: 1.0000\n",
      "Epoch 174/200\n",
      "88/88 [==============================] - 0s 227us/step - loss: 1.9144e-04 - acc: 1.0000\n",
      "Epoch 175/200\n",
      "88/88 [==============================] - 0s 226us/step - loss: 1.1747e-05 - acc: 1.0000\n",
      "Epoch 176/200\n",
      "88/88 [==============================] - 0s 249us/step - loss: 5.9619e-05 - acc: 1.0000\n",
      "Epoch 177/200\n",
      "88/88 [==============================] - 0s 215us/step - loss: 1.8862e-04 - acc: 1.0000\n",
      "Epoch 178/200\n",
      "88/88 [==============================] - 0s 215us/step - loss: 1.9715e-04 - acc: 1.0000\n",
      "Epoch 179/200\n",
      "88/88 [==============================] - 0s 193us/step - loss: 1.0024e-04 - acc: 1.0000\n",
      "Epoch 180/200\n",
      "88/88 [==============================] - 0s 215us/step - loss: 2.9925e-04 - acc: 1.0000\n",
      "Epoch 181/200\n",
      "88/88 [==============================] - 0s 204us/step - loss: 5.9346e-04 - acc: 1.0000\n",
      "Epoch 182/200\n",
      "88/88 [==============================] - 0s 215us/step - loss: 3.2214e-06 - acc: 1.0000\n",
      "Epoch 183/200\n",
      "88/88 [==============================] - 0s 249us/step - loss: 4.3346e-04 - acc: 1.0000\n",
      "Epoch 184/200\n",
      "88/88 [==============================] - 0s 193us/step - loss: 1.3363e-05 - acc: 1.0000\n",
      "Epoch 185/200\n",
      "88/88 [==============================] - 0s 295us/step - loss: 1.3320e-05 - acc: 1.0000\n",
      "Epoch 186/200\n",
      "88/88 [==============================] - 0s 204us/step - loss: 1.1216e-05 - acc: 1.0000\n",
      "Epoch 187/200\n",
      "88/88 [==============================] - 0s 215us/step - loss: 2.4826e-04 - acc: 1.0000\n",
      "Epoch 188/200\n",
      "88/88 [==============================] - 0s 227us/step - loss: 6.4748e-04 - acc: 1.0000\n",
      "Epoch 189/200\n",
      "88/88 [==============================] - 0s 227us/step - loss: 9.8202e-05 - acc: 1.0000\n",
      "Epoch 190/200\n",
      "88/88 [==============================] - 0s 215us/step - loss: 1.4303e-04 - acc: 1.0000\n",
      "Epoch 191/200\n",
      "88/88 [==============================] - 0s 193us/step - loss: 5.6025e-05 - acc: 1.0000\n",
      "Epoch 192/200\n",
      "88/88 [==============================] - 0s 227us/step - loss: 7.1146e-06 - acc: 1.0000\n",
      "Epoch 193/200\n",
      "88/88 [==============================] - 0s 283us/step - loss: 6.8537e-04 - acc: 1.0000\n",
      "Epoch 194/200\n",
      "88/88 [==============================] - 0s 204us/step - loss: 2.1056e-04 - acc: 1.0000\n",
      "Epoch 195/200\n",
      "88/88 [==============================] - 0s 249us/step - loss: 1.4057e-05 - acc: 1.0000\n",
      "Epoch 196/200\n",
      "88/88 [==============================] - 0s 226us/step - loss: 6.0347e-06 - acc: 1.0000\n",
      "Epoch 197/200\n",
      "88/88 [==============================] - 0s 249us/step - loss: 3.5202e-04 - acc: 1.0000\n",
      "Epoch 198/200\n",
      "88/88 [==============================] - 0s 227us/step - loss: 1.1557e-04 - acc: 1.0000\n",
      "Epoch 199/200\n",
      "88/88 [==============================] - 0s 181us/step - loss: 7.4149e-05 - acc: 1.0000\n",
      "Epoch 200/200\n",
      "88/88 [==============================] - 0s 238us/step - loss: 2.1005e-05 - acc: 1.0000\n"
     ]
    }
   ],
   "source": [
    "hist=model.fit(np.array(train_x),np.array(train_y),epochs=200,batch_size=5,verbose=1)"
   ]
  },
  {
   "cell_type": "code",
   "execution_count": 42,
   "metadata": {},
   "outputs": [],
   "source": [
    "model.save('chatbot_model.h5',hist)"
   ]
  },
  {
   "cell_type": "code",
   "execution_count": 43,
   "metadata": {},
   "outputs": [
    {
     "name": "stdout",
     "output_type": "stream",
     "text": [
      "model created\n"
     ]
    }
   ],
   "source": [
    "print(\"model created\")"
   ]
  },
  {
   "cell_type": "code",
   "execution_count": null,
   "metadata": {},
   "outputs": [],
   "source": []
  },
  {
   "cell_type": "code",
   "execution_count": null,
   "metadata": {},
   "outputs": [],
   "source": []
  },
  {
   "cell_type": "code",
   "execution_count": null,
   "metadata": {},
   "outputs": [],
   "source": []
  },
  {
   "cell_type": "code",
   "execution_count": null,
   "metadata": {},
   "outputs": [],
   "source": []
  },
  {
   "cell_type": "code",
   "execution_count": null,
   "metadata": {},
   "outputs": [],
   "source": []
  },
  {
   "cell_type": "code",
   "execution_count": null,
   "metadata": {},
   "outputs": [],
   "source": []
  },
  {
   "cell_type": "code",
   "execution_count": null,
   "metadata": {},
   "outputs": [],
   "source": []
  },
  {
   "cell_type": "code",
   "execution_count": null,
   "metadata": {},
   "outputs": [],
   "source": []
  },
  {
   "cell_type": "code",
   "execution_count": null,
   "metadata": {},
   "outputs": [],
   "source": []
  },
  {
   "cell_type": "code",
   "execution_count": null,
   "metadata": {},
   "outputs": [],
   "source": []
  },
  {
   "cell_type": "code",
   "execution_count": null,
   "metadata": {},
   "outputs": [],
   "source": []
  }
 ],
 "metadata": {
  "kernelspec": {
   "display_name": "Python 3",
   "language": "python",
   "name": "python3"
  },
  "language_info": {
   "codemirror_mode": {
    "name": "ipython",
    "version": 3
   },
   "file_extension": ".py",
   "mimetype": "text/x-python",
   "name": "python",
   "nbconvert_exporter": "python",
   "pygments_lexer": "ipython3",
   "version": "3.6.5"
  }
 },
 "nbformat": 4,
 "nbformat_minor": 2
}
